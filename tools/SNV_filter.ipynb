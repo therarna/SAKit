{
 "cells": [
  {
   "cell_type": "code",
   "execution_count": 1,
   "id": "799ee9d2-9abb-4f9a-bee7-1a1617fa350c",
   "metadata": {},
   "outputs": [],
   "source": [
    "import pandas as pd\n",
    "import vcf\n",
    "import gzip\n",
    "from itertools import chain"
   ]
  },
  {
   "cell_type": "code",
   "execution_count": 2,
   "id": "02059a03-080b-4c6f-a165-cc48b2031980",
   "metadata": {},
   "outputs": [],
   "source": [
    "\n",
    "\n",
    "class VCFParser:\n",
    "    def __init__(self, vcf_file, vcf_type=\"vardict\", is_annotated=False):\n",
    "        self.vcf_file = vcf_file\n",
    "        self.vcf_type = vcf_type\n",
    "        self.is_annotated = is_annotated\n",
    "        self.df = None\n",
    "\n",
    "    def parse_ann(self, ann_str):\n",
    "        ann_list = []\n",
    "        for ann in ann_str.split(\",\"):\n",
    "            ann_fields = ann.split(\"|\")\n",
    "            if len(ann_fields) >= 12:\n",
    "                ann_dict = {\n",
    "                    \"Gene_Name\": ann_fields[3],\n",
    "                    \"Feature_ID\": ann_fields[6],\n",
    "                    \"Transcript_BioType\": ann_fields[7],\n",
    "                    \"Annotation\": ann_fields[1],\n",
    "                    \"HGVS.c\": ann_fields[9],\n",
    "                    \"HGVS.p\": ann_fields[10]\n",
    "                }\n",
    "                ann_list.append(ann_dict)\n",
    "        return ann_list\n",
    "\n",
    "    def parse_info(self, info_str):\n",
    "        info_dict = {}\n",
    "        for item in info_str.split(\";\"):\n",
    "            key, value = item.split(\"=\", 1)\n",
    "            info_dict[key] = value\n",
    "        return info_dict\n",
    "\n",
    "    def parse_sample(self, sample_str, format_fields):\n",
    "        sample_values = sample_str.split(\":\")\n",
    "        sample_dict = dict(zip(format_fields, sample_values))\n",
    "        return sample_dict\n",
    "\n",
    "    def _read_vcf_lines(self):\n",
    "        with gzip.open(self.vcf_file, \"rt\") if self.vcf_file.endswith(\".gz\") else open(self.vcf_file, \"r\") as file:\n",
    "            lines = file.readlines()\n",
    "        data_lines = []\n",
    "        for line in lines:\n",
    "            if not line.startswith(\"#\"):\n",
    "                data_lines.append(line.strip().split(\"\\t\"))\n",
    "        return data_lines, lines\n",
    "\n",
    "    def _get_header(self, lines):\n",
    "        header = [h.strip(\"#\") for h in lines if h.startswith(\"#CHROM\")][0].strip().split(\"\\t\")\n",
    "        return header\n",
    "\n",
    "    def _get_num_samples(self, header):\n",
    "        sample_names = header[9:]\n",
    "        num_samples = len(sample_names)\n",
    "        return num_samples\n",
    "    def _get_new_cols(self, num_samples):\n",
    "        cols_base = [\"CHROM\", \"POS\", \"REF\", \"ALT\", \"FILTER\"]\n",
    "        cols_snvcall = [\"STATUS\", \"TYPE\", \"MSI\", \"MSILEN\"]\n",
    "        cols_annotate = [\"Gene_Name\", \"Feature_ID\", \"Transcript_BioType\", \"Annotation\", \"HGVS.c\", \"HGVS.p\"]\n",
    "        cols_paired = [\"case_DP\", \"case_VD\", \"case_AF\", \"case_QUAL\", \"ctrl_DP\", \"ctrl_VD\", \"ctrl_AF\", \"ctrl_QUAL\"]\n",
    "        cols_single = [\"DP\", \"VD\", \"AF\", \"QUAL\"]\n",
    "\n",
    "        if (self.is_annotated == True) and (num_samples == 2):\n",
    "            new_cols = cols_base+cols_snvcall+cols_annotate+cols_paired\n",
    "        elif (self.is_annotated == True) and (num_samples == 1):\n",
    "            new_cols = cols_base+cols_snvcall+cols_annotate+cols_single\n",
    "        elif  (self.is_annotated == False) and (num_samples == 2):\n",
    "            new_cols = cols_base+cols_snvcall+cols_paired\n",
    "        elif  (self.is_annotated == False) and (num_samples == 1):\n",
    "            new_cols = cols_base+cols_snvcall+cols_single\n",
    "        return new_cols\n",
    "            \n",
    "    def _process_vcf(self, df, num_samples):\n",
    "        df[\"INFO\"] = df[\"INFO\"].apply(self.parse_info)\n",
    "\n",
    "        df[\"STATUS\"] = df[\"INFO\"].apply(lambda x: x.get(\"STATUS\", \"\"))\n",
    "        df[\"TYPE\"] = df[\"INFO\"].apply(lambda x: x.get(\"TYPE\", \"\"))\n",
    "        df[\"MSI\"] = df[\"INFO\"].apply(lambda x: float(x.get(\"MSI\", 0)))\n",
    "        df[\"MSILEN\"] = df[\"INFO\"].apply(lambda x: float(x.get(\"MSILEN\", 0)))\n",
    "        format_fields = df[\"FORMAT\"].iloc[0].split(\":\")\n",
    "        \n",
    "        if self.is_annotated == True:\n",
    "            df[\"ANN\"] = df[\"INFO\"].apply(lambda x: x.get(\"ANN\", \"\"))\n",
    "            df[\"ANN\"] = df[\"ANN\"].apply(self.parse_ann)\n",
    "            print(len(df))\n",
    "            df = df.explode(\"ANN\", ignore_index=True)\n",
    "            print(len(df))\n",
    "            df[\"Gene_Name\"] = df[\"ANN\"].apply(lambda x: x.get(\"Gene_Name\"))\n",
    "            df[\"Feature_ID\"] = df[\"ANN\"].apply(lambda x: x.get(\"Feature_ID\"))\n",
    "            df[\"Transcript_BioType\"] = df[\"ANN\"].apply(lambda x: x.get(\"Transcript_BioType\"))\n",
    "            df[\"Annotation\"] = df[\"ANN\"].apply(lambda x: x.get(\"Annotation\"))\n",
    "            df[\"HGVS.c\"] = df[\"ANN\"].apply(lambda x: x.get(\"HGVS.c\"))\n",
    "            df[\"HGVS.p\"] = df[\"ANN\"].apply(lambda x: x.get(\"HGVS.p\"))\n",
    "\n",
    "        if num_samples == 2:\n",
    "            df = self._process_paired_samples(df, format_fields)\n",
    "        elif num_samples == 1:\n",
    "            df = self._process_single_sample(df, format_fields)\n",
    "        \n",
    "        new_cols = self._get_new_cols(num_samples)\n",
    "        df = df[new_cols]\n",
    "        \n",
    "        return df\n",
    "\n",
    "    def _process_paired_samples(self, df, format_fields):\n",
    "        sample_names = df.columns[9:]\n",
    "        df[\"case\"] = df.apply(lambda row: self.parse_sample(row[sample_names[0]], format_fields), axis=1)\n",
    "        df[\"ctrl\"] = df.apply(lambda row: self.parse_sample(row[sample_names[1]], format_fields), axis=1)\n",
    "        df[\"case_DP\"] = df[\"case\"].apply(lambda x: int(x.get(\"DP\", 0)))\n",
    "        df[\"case_VD\"] = df[\"case\"].apply(lambda x: int(x.get(\"VD\", 0)))\n",
    "        df[\"case_AF\"] = df[\"case\"].apply(lambda x: float(x.get(\"AF\", 0)))\n",
    "        df[\"case_QUAL\"] = df[\"case\"].apply(lambda x: float(x.get(\"QUAL\", 0)))\n",
    "        df[\"ctrl_DP\"] = df[\"ctrl\"].apply(lambda x: int(x.get(\"DP\", 0)))\n",
    "        df[\"ctrl_VD\"] = df[\"ctrl\"].apply(lambda x: int(x.get(\"VD\", 0)))\n",
    "        df[\"ctrl_AF\"] = df[\"ctrl\"].apply(lambda x: float(x.get(\"AF\", 0)))\n",
    "        df[\"ctrl_QUAL\"] = df[\"ctrl\"].apply(lambda x: float(x.get(\"QUAL\", 0)))\n",
    "\n",
    "        return df\n",
    "\n",
    "    def _process_single_sample(self, df, format_fields):\n",
    "        sample_name = df.columns[9]\n",
    "        df[\"sample\"] = df.apply(lambda row: self.parse_sample(row[sample_name], format_fields), axis=1)\n",
    "        df[\"DP\"] = df[\"sample\"].apply(lambda x: int(x.get(\"DP\", 0)))\n",
    "        df[\"VD\"] = df[\"sample\"].apply(lambda x: int(x.get(\"VD\", 0)))\n",
    "        df[\"AF\"] = df[\"sample\"].apply(lambda x: float(x.get(\"AF\", 0)))\n",
    "        df[\"QUAL\"] = df[\"INFO\"].apply(lambda x: x.get(\"QUAL\"))\n",
    "\n",
    "        return df\n",
    "\n",
    "    def vcf2dataframe(self):\n",
    "        data_lines, lines = self._read_vcf_lines()\n",
    "        header = self._get_header(lines)\n",
    "        num_samples = self._get_num_samples(header)\n",
    "\n",
    "        # Creating the DataFrame\n",
    "        df = pd.DataFrame(data_lines, columns=header)\n",
    "\n",
    "        if  self.vcf_type == \"vardict\":\n",
    "            df = self._process_vcf(df, num_samples)\n",
    "            # For non-annotated VCF, keep only the ID columns\n",
    "        elif self.vcf_type == \"dbsnp\":\n",
    "            cols_base = [\"CHROM\", \"POS\", \"REF\", \"ALT\", \"ID\"]\n",
    "            df = df[cols_base]\n",
    "            df[\"CHROM\"] = \"chr\"+df[\"CHROM\"].astype(str)\n",
    "            \n",
    "        else:\n",
    "            print(\"vcf must be  format of vardict or dbsnp \")\n",
    "\n",
    "        df[\"CHROM_POS\"] = df[\"CHROM\"] + \":\" + df[\"POS\"].astype(str)\n",
    "        df[\"REF_ALT\"] = df[\"REF\"] + \"_\" + df[\"ALT\"]\n",
    "        df = df.set_index([\"CHROM_POS\", \"REF_ALT\"])\n",
    "\n",
    "        return df"
   ]
  },
  {
   "cell_type": "code",
   "execution_count": 3,
   "id": "76614f78-2db6-49ad-9063-3aa07a2a76cf",
   "metadata": {},
   "outputs": [
    {
     "name": "stdout",
     "output_type": "stream",
     "text": [
      "1917\n",
      "8025\n"
     ]
    }
   ],
   "source": [
    "##test \n",
    "COAD_0009689008_vs_0012934312_vcf=\"/home/jovyan/work/10.data_CODA_ahslyy/05.SNVINDEL/COAD_0009689008_vs_0012934312.single_variant.vcf\"\n",
    "df_0009689008_vs_0012934312 = VCFParser(COAD_0009689008_vs_0012934312_vcf,is_annotated=False).vcf2dataframe()\n",
    "COAD_0009689008_vs_0012934312_snpeff_vcf=\"/home/jovyan/work/10.data_CODA_ahslyy/05.SNVINDEL/COAD_0009689008_vs_0012934312.single_variant.snpeff.vcf\"\n",
    "df_0009689008_vs_0012934312_snpeff = VCFParser(COAD_0009689008_vs_0012934312_snpeff_vcf,is_annotated=True,vcf_type=\"vardict\").vcf2dataframe()"
   ]
  },
  {
   "cell_type": "code",
   "execution_count": 4,
   "id": "1632e155-4599-4e88-835f-9289066a3f86",
   "metadata": {},
   "outputs": [],
   "source": [
    "##dbsnp input\n",
    "vcf_dbsnp=\"/home/jovyan/work/00.database/14.dbSNP/All_20180418_in_WES.vcf.gz\"\n",
    "df_dbsnp = VCFParser(vcf_dbsnp,is_annotated=False,vcf_type=\"dbsnp\").vcf2dataframe()"
   ]
  },
  {
   "cell_type": "code",
   "execution_count": 5,
   "id": "eed02ca2-a1eb-4e39-86b5-692029d142ca",
   "metadata": {},
   "outputs": [
    {
     "name": "stdout",
     "output_type": "stream",
     "text": [
      "1236442\n",
      "5051748\n"
     ]
    }
   ],
   "source": [
    "## run sample\n",
    "samplename=\"0014215947\"\n",
    "sample_paired_vcf = \"/home/jovyan/work/10.data_CODA_ahslyy/05.SNVINDEL/COAD_{0}.single_variant.snpeff.vcf\".format(samplename)\n",
    "df_paired = VCFParser(sample_paired_vcf,is_annotated=True,vcf_type=\"vardict\").vcf2dataframe()"
   ]
  },
  {
   "cell_type": "code",
   "execution_count": 6,
   "id": "11944001-ddad-4888-a9ab-6c9c3e613f18",
   "metadata": {},
   "outputs": [
    {
     "name": "stdout",
     "output_type": "stream",
     "text": [
      "909733\n",
      "3755918\n"
     ]
    }
   ],
   "source": [
    "sample_normal_vcf=\"/home/jovyan/work/10.data_CODA_ahslyy/03.Result.SAKit2/{0}_N/results/08.SvInDelSnvCalling/COAD_{1}_N.single_variant.snpeff.vcf\".format(samplename,samplename)\n",
    "df_normal = VCFParser(sample_normal_vcf,is_annotated=True,vcf_type=\"vardict\").vcf2dataframe()"
   ]
  },
  {
   "cell_type": "code",
   "execution_count": 7,
   "id": "82ce9226-f53a-4bcd-bc8d-cf337d5e0b11",
   "metadata": {},
   "outputs": [
    {
     "name": "stdout",
     "output_type": "stream",
     "text": [
      "5051748\n",
      "1045344\n",
      "3213\n",
      "2880\n"
     ]
    }
   ],
   "source": [
    "df_somatic = df_paired[df_paired[\"STATUS\"]==\"StrongSomatic\"]\n",
    "df_somatic_dpvdaf = df_somatic[(df_somatic[\"case_DP\"] > 20) & \n",
    "                               (df_somatic[\"case_VD\"] > 5) & \n",
    "                               (df_somatic[\"case_AF\"] > 0.1) & \n",
    "                               (df_somatic[\"ctrl_DP\"] > 20)]\n",
    "df_somatic_dpvdaf_NM5 = df_somatic_dpvdaf[~(df_somatic_dpvdaf[\"FILTER\"].str.contains(\"NM5.25\") | \n",
    "                                            df_somatic_dpvdaf[\"FILTER\"].str.contains(\"NM5.25\"))]\n",
    "\n",
    "print(len(df_paired))\n",
    "print(len(df_somatic))\n",
    "print(len(df_somatic_dpvdaf))\n",
    "print(len(df_somatic_dpvdaf_NM5))"
   ]
  },
  {
   "cell_type": "code",
   "execution_count": 8,
   "id": "8e3fcf7a-5ce9-4358-9727-806e4ca511f1",
   "metadata": {},
   "outputs": [],
   "source": [
    "df_normal_dpvdaf = df_normal[(df_normal[\"DP\"] > 10) & \n",
    "                              (df_normal[\"VD\"] > 1) & \n",
    "                              (df_normal[\"AF\"] > 0.01)]\n",
    "normal_dpvdaf_index = df_normal_dpvdaf.index\n",
    "df_somatic_dpvdaf_NM5_ctrlfiltered = df_somatic_dpvdaf_NM5.drop(normal_dpvdaf_index,errors=\"ignore\")"
   ]
  },
  {
   "cell_type": "code",
   "execution_count": 9,
   "id": "6e465186-15c4-4e78-b698-4e89709337b9",
   "metadata": {},
   "outputs": [],
   "source": [
    "dbsnp_index = df_dbsnp.index\n",
    "df_somatic_dpvdaf_NM5_snp = df_somatic_dpvdaf_NM5.drop(dbsnp_index,errors=\"ignore\")"
   ]
  },
  {
   "cell_type": "code",
   "execution_count": 10,
   "id": "ccf89cab-2f37-41e2-b281-c0b6f85a0561",
   "metadata": {},
   "outputs": [],
   "source": [
    "df_somatic_dpvdaf_NM5_snpfiltered = df_somatic_dpvdaf_NM5_snp[df_somatic_dpvdaf_NM5_snp['HGVS.p'] != '']"
   ]
  },
  {
   "cell_type": "code",
   "execution_count": 11,
   "id": "bef85f75-de22-441f-9a59-9dca3379c4e0",
   "metadata": {},
   "outputs": [],
   "source": [
    "df_somatic_dpvdaf_NM5_snpfiltered.to_csv(\"/home/jovyan/work/10.data_CODA_ahslyy/03.Result.SAKit2/{}_CA/results/08.SvInDelSnvCalling/COAD_{}_somatic_filtered.csv\".format(samplename,samplename))"
   ]
  },
  {
   "cell_type": "code",
   "execution_count": 12,
   "id": "186f52e6-d707-4e92-b853-69d698c168ae",
   "metadata": {},
   "outputs": [
    {
     "data": {
      "text/plain": [
       "136"
      ]
     },
     "execution_count": 12,
     "metadata": {},
     "output_type": "execute_result"
    }
   ],
   "source": [
    "len(df_somatic_dpvdaf_NM5_snpfiltered)"
   ]
  },
  {
   "cell_type": "code",
   "execution_count": null,
   "id": "f35e6b7a-d671-4860-8d85-5eddefd377a0",
   "metadata": {},
   "outputs": [],
   "source": []
  }
 ],
 "metadata": {
  "kernelspec": {
   "display_name": "Python 3 (ipykernel)",
   "language": "python",
   "name": "python3"
  },
  "language_info": {
   "codemirror_mode": {
    "name": "ipython",
    "version": 3
   },
   "file_extension": ".py",
   "mimetype": "text/x-python",
   "name": "python",
   "nbconvert_exporter": "python",
   "pygments_lexer": "ipython3",
   "version": "3.11.4"
  }
 },
 "nbformat": 4,
 "nbformat_minor": 5
}
