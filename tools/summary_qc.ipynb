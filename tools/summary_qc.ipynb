{
 "cells": [
  {
   "cell_type": "code",
   "execution_count": 1,
   "id": "5c195278-c223-4c80-bd2a-5ca7a52838af",
   "metadata": {},
   "outputs": [],
   "source": [
    "import os\n",
    "import sys\n",
    "import glob\n",
    "import pandas as pd\n",
    "import json"
   ]
  },
  {
   "cell_type": "code",
   "execution_count": 2,
   "id": "4d72a4d9-82fc-4fab-87a8-a8ee3367d57c",
   "metadata": {},
   "outputs": [],
   "source": [
    "QC_item_list = [\"ZMWs\",\"ZMWs_filtered\",\"FLNC Reads\",\"FLNC_polyA Reads\"]\n",
    "sample_dict = {} \n",
    "'''\n",
    "    \"0009689008_CA\":[,,,,,]\n",
    "'''\n",
    "result_path=\"/home/jovyan/work/10.data_CODA_ahslyy\"\n"
   ]
  },
  {
   "cell_type": "code",
   "execution_count": 3,
   "id": "7dd5b879-2908-4de3-bf86-acdac43ed253",
   "metadata": {},
   "outputs": [],
   "source": [
    "## parse the file of demultiplex.lima.summary\n",
    "file_format=\"*.demultiplex.lima.summary\"\n",
    "lima_files=glob.glob(f\"{result_path}/*_*/results/01.CCS_Trim/{file_format}\")\n",
    "for lima_file in lima_files:\n",
    "    sample_name=os.path.basename(lima_file).split(\".\")[0]\n",
    "    sample_dict[sample_name] = []\n",
    "    lima_df = pd.read_table(lima_file,sep=\":\",names=[\"value\"],index_col=0)\n",
    "    ZMWs = lima_df.loc[lima_df.index.str.contains(\"ZMWs input\"), \"value\"].values[0]\n",
    "    ZMWs_above_thresholds = lima_df.loc[lima_df.index.str.contains(\"ZMWs above all thresholds\"),\"value\"].values[0]\n",
    "    sample_dict[sample_name].append(ZMWs)\n",
    "    #sample_dict[sample_name].append(ZMWs_above_thresholds)"
   ]
  },
  {
   "cell_type": "code",
   "execution_count": 4,
   "id": "9360cd5d-63d3-426e-a318-b4ce8403b8c2",
   "metadata": {},
   "outputs": [
    {
     "name": "stdout",
     "output_type": "stream",
     "text": [
      "\n",
      "\n",
      "\n",
      "\n",
      "\n",
      "\n",
      "\n",
      "\n"
     ]
    }
   ],
   "source": [
    "## parse the file of \"flnc.filter_summary.report.json\"\n",
    "file_format=\"*flnc.filter_summary.report.json\"\n",
    "json_files = glob.glob(f\"{result_path}/*_*/results/01.CCS_Trim/{file_format}\")\n",
    "for json_file in json_files:\n",
    "    sample_name = os.path.basename(json_file).split(\".\")[0]\n",
    "    if sample_name not in sample_dict.keys():\n",
    "        sample_dict[sample_name] = []\n",
    "    with open(json_file,\"r\") as json_f:\n",
    "        json_data = json.load(json_f)\n",
    "        print()\n",
    "        sample_dict[sample_name].append(json_data[\"attributes\"][1][\"value\"])  ## append \"Full-Length Reads”\n",
    "        sample_dict[sample_name].append(json_data[\"attributes\"][2][\"value\"]) ## append \"Full-Length Non-Chimeric Reads\"\n",
    "        sample_dict[sample_name].append(json_data[\"attributes\"][3][\"value\"])  ## append \"Full-Length Non-Chimeric Reads with Poly-A Tail\""
   ]
  },
  {
   "cell_type": "code",
   "execution_count": null,
   "id": "a02e511e-c086-44ef-9188-acd9be726389",
   "metadata": {},
   "outputs": [],
   "source": [
    "## parse the file of \"flnc.filter_summary.report.json\"\n",
    "file_format=\"*flnc.filter_summary.report.json\"\n",
    "json_files = glob.glob(f\"{result_path}/*_*/results/01.CCS_Trim/{file_format}\")\n",
    "for json_file in json_files:\n",
    "    sample_name = os.path.basename(json_file).split(\".\")[0]\n",
    "    if sample_name not in sample_dict.keys():\n",
    "        sample_dict[sample_name] = []"
   ]
  },
  {
   "cell_type": "code",
   "execution_count": 14,
   "id": "1a06023d-31ae-410e-8015-18753c4e7623",
   "metadata": {},
   "outputs": [],
   "source": [
    "df = pd.DataFrame(sample_dict,index=QC_item_list)\n",
    "df.to_csv(os.path.join(result_path,\"QC_summary.csv\"))"
   ]
  },
  {
   "cell_type": "code",
   "execution_count": null,
   "id": "fd14afbd-a0ac-4265-8f77-acb67e1b3c0c",
   "metadata": {},
   "outputs": [],
   "source": []
  }
 ],
 "metadata": {
  "kernelspec": {
   "display_name": "Python 3 (ipykernel)",
   "language": "python",
   "name": "python3"
  },
  "language_info": {
   "codemirror_mode": {
    "name": "ipython",
    "version": 3
   },
   "file_extension": ".py",
   "mimetype": "text/x-python",
   "name": "python",
   "nbconvert_exporter": "python",
   "pygments_lexer": "ipython3",
   "version": "3.11.4"
  }
 },
 "nbformat": 4,
 "nbformat_minor": 5
}
